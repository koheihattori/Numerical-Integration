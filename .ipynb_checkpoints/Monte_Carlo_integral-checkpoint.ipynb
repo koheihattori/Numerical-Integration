{
 "cells": [
  {
   "cell_type": "markdown",
   "metadata": {},
   "source": [
    "# Numerical integration\n",
    "\n",
    "## Importance sampling in Monte Carlo integration"
   ]
  },
  {
   "cell_type": "markdown",
   "metadata": {},
   "source": [
    "## Theory"
   ]
  },
  {
   "cell_type": "markdown",
   "metadata": {},
   "source": [
    "Let's think about an integation:\n",
    "$$\n",
    "    I = \\int \\mathrm{d}x \\; h(x) .\n",
    "$$\n",
    "\n",
    "A simple way to evalute this integral is through a Monte Carlo method.  \n",
    "We can express this integral by\n",
    "$$\n",
    "\\begin{align}\n",
    "    I &= \\mathrm{E}_f[h(X)] \\\\\n",
    "      &= \\int \\mathrm{d}x \\; h(x) f(x)\\\\\n",
    "      &= \\int \\mathrm{d}x \\; \\frac{h(x) f(x)}{g(x)} g(x)\\\\\n",
    "      &= \\mathrm{E}_g \\left[ \\frac{h(X) f(X)}{g(X)} \\right]\n",
    "\\end{align}\n",
    "$$\n",
    "\n",
    "By drawing samples from the probability distribution $g$:\n",
    "$$\n",
    "\\{ x_j | j = 1, \\cdots, N \\} \\sim g,\n",
    "$$ \n",
    "we can approximate $I$ by \n",
    "$$\n",
    "I \\simeq \\frac{1}{N} \\sum_{j=1}^{N} \\frac{h(x_j) f(x_j)}{g(x_j)} . \n",
    "$$\n"
   ]
  },
  {
   "cell_type": "markdown",
   "metadata": {},
   "source": [
    "# Practice"
   ]
  },
  {
   "cell_type": "markdown",
   "metadata": {},
   "source": [
    "(1) Gaussian distribution\n",
    "\n",
    "The Gaussian integral is given by\n",
    "$$\n",
    "    I = \\int_{-\\infty}^{\\infty} \\mathrm{d}x \\; \\frac{1}{\\sqrt{2 \\pi}\\sigma} \\exp \\left[ - \\frac{x^2}{2 \\sigma^2} \\right] (= 1).\n",
    "$$\n",
    "Here we will try to recover this result with importance sampling. \n",
    "\n",
    "\n",
    "One option is to draw a sample from Cauchy distribution, which is characterized by the scale parameter $\\gamma$ and the position parameter $x_0$:\n",
    "$$\n",
    "g(x | \\gamma, x_0) = \\frac{1}{\\pi\\gamma \\left[ 1 + \\left( \\frac{x-x_0}{\\gamma}\\right)^2\\right]} .\n",
    "$$\n",
    "\n",
    "As mentioned earlier, we draw samples from $g$:\n",
    "$$\n",
    "\\{ x_j | j = 1, \\cdots, N \\} \\sim g(x | \\gamma=\\sigma, x_0=0).\n",
    "$$ \n",
    "Here, we set $\\gamma=\\sigma$ and $x_0=0$. In principle, one can choose any valuese for $(\\gamma, x_0)$, but a reasonable choice of these parameters is a key to efficient computation.\n",
    "\n",
    "\n",
    "In general, the cumulative distribution for the Cauchy distribution is given by \n",
    "$$\n",
    "G(x | \\gamma, x_0) = \\frac{1}{\\pi} \\arctan \\left( \\frac{x-x_0}{\\gamma} \\right) + \\frac{1}{2}.\n",
    "$$\n",
    "Thus, we can draw the sample from $g$ in the following manner:\n",
    "1. Draw $\\{ u_j | j = 1, \\cdots, N \\} \\sim U(0,1)$ from the uniform distribution. \n",
    "2. Convert $u_j$ to $x_j$ by using the equation: \n",
    "$$\n",
    "x_j = x_0 + \\gamma \\tan \\left[ \\pi \\left( u - \\frac{1}{2} \\right) \\right] .\n",
    "$$\n",
    "\n",
    "Thus, we can compute $I$ by \n",
    "$$\n",
    "\\begin{align}\n",
    "I &\\simeq \\frac{1}{N} \\sum_{j=1}^{N} \\frac{ Gauss(x_j | \\sigma, 0) }{g(x_j | \\gamma=\\sigma, x_0=0)} \\\\\n",
    "&= \\frac{1}{N} \\sum_{j=1}^{N} \\frac{1}{\\sqrt{2 \\pi}\\sigma} \\exp \\left[ - \\frac{x_j^2}{2 \\sigma^2} \\right] \\times \\pi\\gamma \\left[ 1 + \\left( \\frac{x_j-x_0}{\\gamma}\\right)^2\\right]\n",
    "\\end{align}\n",
    "$$\n"
   ]
  },
  {
   "cell_type": "code",
   "execution_count": 1,
   "metadata": {},
   "outputs": [],
   "source": [
    "import numpy\n",
    "from scipy import stats\n",
    "from scipy.special import erf \n",
    "from scipy.integrate import quad\n",
    "\n",
    "from matplotlib import pyplot\n",
    "\n",
    "pyplot.rcParams['ps.useafm'] = True\n",
    "pyplot.rcParams['pdf.use14corefonts'] = True\n",
    "pyplot.rcParams['text.usetex'] = True"
   ]
  },
  {
   "cell_type": "code",
   "execution_count": 2,
   "metadata": {},
   "outputs": [],
   "source": [
    "def integrand(x,sigma):\n",
    "    f = 1./(numpy.sqrt(2.*numpy.pi)*sigma) * numpy.exp(-0.5*(x/sigma)**2)\n",
    "    return f"
   ]
  },
  {
   "cell_type": "code",
   "execution_count": 3,
   "metadata": {},
   "outputs": [],
   "source": [
    "def MC_Cauchy(_N_MC,Cauchy_gamma,seed):\n",
    "    # set random number seed\n",
    "    numpy.random.seed(seed)\n",
    "    # Cauchy_gamma: width of the distribution\n",
    "    # \n",
    "    # {_u_random} ~ U(0,1) [uniform distribution]\n",
    "    # This is used for the uniform distribution from the cumulative distribution. \n",
    "    u_min = 0.\n",
    "    u_max = 1. \n",
    "    _u_random = u_min  +  (u_max - u_min) * numpy.random.rand(_N_MC) \n",
    "    #\n",
    "    X = numpy.tan( numpy.pi * (_u_random-0.5) )  \n",
    "    x = Cauchy_gamma*X\n",
    "    g = 1./((1.+X**2) * numpy.pi * Cauchy_gamma)\n",
    "    \n",
    "    list_ = integrand(x, sigma)/g\n",
    "    \n",
    "    return (numpy.sum(list_)/float(_N_MC))"
   ]
  },
  {
   "cell_type": "code",
   "execution_count": 4,
   "metadata": {},
   "outputs": [
    {
     "name": "stdout",
     "output_type": "stream",
     "text": [
      "(1.0, 5.402712259810918e-10)\n"
     ]
    }
   ],
   "source": [
    "sigma = 150.\n",
    "result, err_result = quad(integrand, -numpy.infty, numpy.infty, args=(sigma,))\n",
    "print(result, err_result)"
   ]
  },
  {
   "cell_type": "code",
   "execution_count": 5,
   "metadata": {},
   "outputs": [
    {
     "data": {
      "text/plain": [
       "1.1386264163328847"
      ]
     },
     "execution_count": 5,
     "metadata": {},
     "output_type": "execute_result"
    }
   ],
   "source": [
    "MC_Cauchy(100,150,123)"
   ]
  },
  {
   "cell_type": "code",
   "execution_count": 6,
   "metadata": {},
   "outputs": [],
   "source": [
    "result_MC_1e2 = [MC_Cauchy(100,sigma,seed) for seed in range(1,1001)]"
   ]
  },
  {
   "cell_type": "code",
   "execution_count": 7,
   "metadata": {},
   "outputs": [],
   "source": [
    "result_MC_1e3 = [MC_Cauchy(1000,sigma,seed) for seed in range(1,1001)]"
   ]
  },
  {
   "cell_type": "code",
   "execution_count": 8,
   "metadata": {},
   "outputs": [],
   "source": [
    "result_MC_1e4 = [MC_Cauchy(10000,sigma,seed) for seed in range(1,1001)]"
   ]
  },
  {
   "cell_type": "code",
   "execution_count": 9,
   "metadata": {},
   "outputs": [
    {
     "name": "stdout",
     "output_type": "stream",
     "text": [
      "mean +/- std:\n",
      "1.000156 (+/-) 0.055987  for N = 100\n",
      "0.999808 (+/-) 0.018332  for N = 1000\n",
      "0.999954 (+/-) 0.005856  for N = 10000\n"
     ]
    }
   ],
   "source": [
    "# Mean and standard deviation:\n",
    "print('mean +/- std:')\n",
    "print('%.6lf (+/-) %.6lf  for N = %d' % (numpy.mean(result_MC_1e2), numpy.std(result_MC_1e2), 100))\n",
    "print('%.6lf (+/-) %.6lf  for N = %d' % (numpy.mean(result_MC_1e3), numpy.std(result_MC_1e3), 1000))\n",
    "print('%.6lf (+/-) %.6lf  for N = %d' % (numpy.mean(result_MC_1e4), numpy.std(result_MC_1e4), 10000))\n"
   ]
  },
  {
   "cell_type": "code",
   "execution_count": 10,
   "metadata": {},
   "outputs": [
    {
     "data": {
      "image/png": "[encoded data removed]",
      "text/plain": [
       "<Figure size 432x288 with 1 Axes>"
      ]
     },
     "metadata": {
      "needs_background": "light"
     },
     "output_type": "display_data"
    }
   ],
   "source": [
    "pyplot.hist(result_MC_1e2, bins=41, histtype='step', label=r'$N=100$')\n",
    "pyplot.hist(result_MC_1e3, bins=31, histtype='step', label=r'$N=1000$')\n",
    "pyplot.hist(result_MC_1e4, bins=21, histtype='step', label=r'$N=10000$')\n",
    "\n",
    "pyplot.xticks(fontsize=20)\n",
    "pyplot.yticks(fontsize=20)\n",
    "\n",
    "pyplot.xlabel('$I$', fontsize=20)\n",
    "pyplot.legend(fontsize=15)\n",
    "pyplot.title(r'Repeat the integration for 1000 times for each $N$',fontsize=20)\n",
    "pyplot.tight_layout()\n",
    "pyplot.show()"
   ]
  },
  {
   "cell_type": "code",
   "execution_count": null,
   "metadata": {},
   "outputs": [],
   "source": []
  }
 ],
 "metadata": {
  "kernelspec": {
   "display_name": "Python 2",
   "language": "python",
   "name": "python2"
  },
  "language_info": {
   "codemirror_mode": {
    "name": "ipython",
    "version": 2
   },
   "file_extension": ".py",
   "mimetype": "text/x-python",
   "name": "python",
   "nbconvert_exporter": "python",
   "pygments_lexer": "ipython2",
   "version": "2.7.15"
  }
 },
 "nbformat": 4,
 "nbformat_minor": 2
}
